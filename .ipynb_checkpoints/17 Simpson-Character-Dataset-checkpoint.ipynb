{
 "cells": [
  {
   "cell_type": "markdown",
   "metadata": {},
   "source": [
    "1. Imports\n",
    "2. Data preprocessing\n",
    "3. EDA\n",
    "4. Data Preparation\n",
    "5. Model\n",
    "6. Train\n",
    "7. Evaluation"
   ]
  },
  {
   "cell_type": "markdown",
   "metadata": {},
   "source": [
    "# SUMMARY"
   ]
  },
  {
   "cell_type": "markdown",
   "metadata": {},
   "source": [
    "Used the simpsons character dataset to train images using transfer learning from a model build upon an inception architecture. A subset of 8 classes and their corresponding 13000 images were used. The model was pretrained on the FaceNet database. Three additional dense layers were added and were trained on the dataset. The model was trained for 10 Epochs. The model performed with an accuracy of 86% on seen data and 83% on the test data.Used the simpsons character dataset to train images using transfer learning from a model build upon an inception architecture. A subset of 8 classes and their corresponding 13000 images were used. The model was pretrained on the FaceNet database. Three additional dense layers were added and were trained on the dataset. The model was trained for 10 Epochs. The model performed with an accuracy of 86% on seen data and 83% on the test data.\n",
    "\n",
    "Model weights are saved. In case retraining is not required, use the load_weights method."
   ]
  },
  {
   "cell_type": "markdown",
   "metadata": {},
   "source": [
    "# **1. IMPORTS** "
   ]
  },
  {
   "cell_type": "code",
   "execution_count": null,
   "metadata": {
    "_cell_guid": "b1076dfc-b9ad-4769-8c92-a6c4dae69d19",
    "_uuid": "8f2839f25d086af736a60e9eeb907d3b93b6e0e5",
    "collapsed": true
   },
   "outputs": [],
   "source": [
    "# This Python 3 environment comes with many helpful analytics libraries installed\n",
    "# It is defined by the kaggle/python Docker image: https://github.com/kaggle/docker-python\n",
    "# For example, here's several helpful packages to load\n",
    "\n",
    "import numpy as np # linear algebra\n",
    "import pandas as pd # data processing, CSV file I/O (e.g. pd.read_csv)\n",
    "\n",
    "# Input data files are available in the read-only \"../input/\" directory\n",
    "# For example, running this (by clicking run or pressing Shift+Enter) will list all files under the input directory\n",
    "\n",
    "import os\n",
    "# for dirname, _, filenames in os.walk('/kaggle/input'):\n",
    "#     for filename in filenames:\n",
    "#         print(os.path.join(dirname, filename))\n",
    "import tensorflow as tf\n",
    "import matplotlib.pyplot as plt\n",
    "from sklearn.metrics import classification_report, confusion_matrix\n",
    "\n",
    "# You can write up to 20GB to the current directory (/kaggle/working/) that gets preserved as output when you create a version using \"Save & Run All\" \n",
    "# You can also write temporary files to /kaggle/temp/, but they won't be saved outside of the current session"
   ]
  },
  {
   "cell_type": "markdown",
   "metadata": {},
   "source": [
    "# 2. Data PreProcessing"
   ]
  },
  {
   "cell_type": "code",
   "execution_count": null,
   "metadata": {
    "collapsed": true
   },
   "outputs": [],
   "source": [
    "# Constants\n",
    "DIR_TEST='/kaggle/input/the-simpsons-characters-dataset/kaggle_simpson_testset/kaggle_simpson_testset/'\n",
    "DIR_TRAIN='/kaggle/input/the-simpsons-characters-dataset/simpsons_dataset/simpsons_dataset/'\n",
    "\n",
    "IMG_SIZE = (160,160)"
   ]
  },
  {
   "cell_type": "code",
   "execution_count": null,
   "metadata": {
    "collapsed": true
   },
   "outputs": [],
   "source": [
    "# Select Train Data\n",
    "characters_all = {}\n",
    "for x in os.listdir(DIR_TRAIN):\n",
    "    characters_all[x]=len(os.listdir(os.path.join(DIR_TRAIN,x)))\n",
    "characters_all={k: v for k, v in sorted(characters_all.items(), key=lambda item: item[1],reverse=True)}\n",
    "characters_all = list(characters_all)\n",
    "characters_all = characters_all[0:8]\n",
    "characters_all"
   ]
  },
  {
   "cell_type": "code",
   "execution_count": null,
   "metadata": {
    "collapsed": true
   },
   "outputs": [],
   "source": [
    "# Select Test Data\n",
    "dataframe_test=[]\n",
    "for file in os.listdir(DIR_TEST):\n",
    "    for char in characters_all:\n",
    "        if file[0:len(char)]==char:\n",
    "            dataframe_test.append([(os.path.join(DIR_TEST,file)),char])\n",
    "dataframe_test = pd.DataFrame(dataframe_test,columns=['name','label'])\n",
    "dataframe_test.groupby('label').count()"
   ]
  },
  {
   "cell_type": "markdown",
   "metadata": {},
   "source": [
    "# 3. EDA"
   ]
  },
  {
   "cell_type": "code",
   "execution_count": null,
   "metadata": {
    "collapsed": true
   },
   "outputs": [],
   "source": [
    "# Display Data\n",
    "plt.figure( figsize=(10, 16), dpi=320 )\n",
    "for i,character in enumerate(characters_all):\n",
    "    images=np.random.choice(os.listdir(DIR_TRAIN+character), 5)\n",
    "#     print(images)\n",
    "#     print(i,character)\n",
    "    for j in range(len(images)):\n",
    "        k=int(i)*5+j+1\n",
    "        plt.subplot(len(characters_all),5,k)\n",
    "        plt.tick_params(which='both', bottom=False, left=False, top=False,labelbottom=False,labelleft=False)\n",
    "        img=plt.imread(os.path.join(DIR_TRAIN,character,images[j]))\n",
    "        plt.xlabel(character)\n",
    "        plt.imshow(img)\n",
    "plt.tight_layout()"
   ]
  },
  {
   "cell_type": "markdown",
   "metadata": {},
   "source": [
    "# 4. Data Preparation"
   ]
  },
  {
   "cell_type": "code",
   "execution_count": null,
   "metadata": {
    "collapsed": true
   },
   "outputs": [],
   "source": [
    "# Create dataframe\n",
    "\n",
    "labels_name_int = {}\n",
    "labels_int_name = {}\n",
    "for i,character in enumerate(characters_all):\n",
    "    labels_name_int[character] = int(i)\n",
    "    labels_int_name[int(i)] = character\n",
    "\n",
    "dataframe = pd.DataFrame(None,columns=['name','label'])\n",
    "img=plt.imread(os.path.join(DIR_TRAIN,character,images[j]))\n",
    "\n",
    "for char in characters_all:\n",
    "    for filename in os.listdir(os.path.join(DIR_TRAIN,char)):\n",
    "#         print(filename)\n",
    "        dataframe=dataframe.append({'label':char,'name':os.path.join(DIR_TRAIN,char,filename)},ignore_index=True)\n",
    "dataframe"
   ]
  },
  {
   "cell_type": "code",
   "execution_count": null,
   "metadata": {
    "collapsed": true
   },
   "outputs": [],
   "source": [
    "datagen_train = tf.keras.preprocessing.image.ImageDataGenerator(\n",
    "    featurewise_center=False, samplewise_center=False,\n",
    "    featurewise_std_normalization=False, samplewise_std_normalization=False,\n",
    "    zca_whitening=False, zca_epsilon=1e-06, rotation_range=0, width_shift_range=0.0,\n",
    "    height_shift_range=0.0, brightness_range=None, shear_range=0.0, zoom_range=0.0,\n",
    "    channel_shift_range=0.0, fill_mode='nearest', cval=0.0,\n",
    "    horizontal_flip=False, vertical_flip=False, rescale=1./255,\n",
    "    preprocessing_function=None, data_format=None, validation_split=0.0, dtype=None\n",
    ")\n",
    "datagen_train_flow = datagen_train.flow_from_dataframe(\n",
    "    dataframe, directory=None, x_col='name', y_col='label',\n",
    "    weight_col=None, target_size=IMG_SIZE, color_mode='rgb',\n",
    "    classes=None, class_mode='sparse', batch_size=32, shuffle=True,\n",
    "    seed=None, save_to_dir=None, save_prefix='',subset=None, interpolation='nearest',\n",
    "    validate_filenames=True\n",
    ")\n"
   ]
  },
  {
   "cell_type": "markdown",
   "metadata": {},
   "source": [
    "# 5. Model"
   ]
  },
  {
   "cell_type": "code",
   "execution_count": null,
   "metadata": {
    "collapsed": true
   },
   "outputs": [],
   "source": [
    "# Model\n",
    "\n",
    "from tensorflow.keras.models import load_model\n",
    "# load the model\n",
    "base_model = load_model('/kaggle/input/facenet/keras-facenet/model/facenet_keras.h5')\n",
    "base_model.load_weights('/kaggle/input/facenet/keras-facenet/weights/facenet_keras_weights.h5')\n",
    "\n",
    "base_model = tf.keras.Model(inputs=base_model.input,outputs=base_model.get_layer('AvgPool').output) \n",
    "base_model.trainable=False\n",
    "base_model.summary()"
   ]
  },
  {
   "cell_type": "code",
   "execution_count": null,
   "metadata": {
    "collapsed": true
   },
   "outputs": [],
   "source": [
    "face_model = tf.keras.Sequential([\n",
    "    base_model,\n",
    "    tf.keras.layers.Dense(256,activation='relu'),\n",
    "    tf.keras.layers.Dense(32,activation='relu'),\n",
    "    tf.keras.layers.Dense(8,activation='softmax'),\n",
    "])\n",
    "face_model.compile( optimizer='adam', loss='SparseCategoricalCrossentropy', metrics='accuracy')\n"
   ]
  },
  {
   "cell_type": "markdown",
   "metadata": {},
   "source": [
    "# 6.Training "
   ]
  },
  {
   "cell_type": "code",
   "execution_count": null,
   "metadata": {
    "collapsed": true
   },
   "outputs": [],
   "source": [
    "face_model.fit(\n",
    "    datagen_train_flow, steps_per_epoch=None, epochs=10, verbose=1, callbacks=None,\n",
    "    validation_data=None, validation_steps=None, validation_freq=1,\n",
    "    class_weight=None, workers=1, use_multiprocessing=False,\n",
    "    shuffle=True, initial_epoch=0\n",
    ")\n",
    "face_model.save('/kaggle/working/face_model.h5')\n",
    "face_model.save_weights('/kaggle/working/face_model_weights.h5')"
   ]
  },
  {
   "cell_type": "markdown",
   "metadata": {},
   "source": [
    "# 7. Evaluation"
   ]
  },
  {
   "cell_type": "code",
   "execution_count": null,
   "metadata": {
    "collapsed": true
   },
   "outputs": [],
   "source": [
    "model_new = load_model('/kaggle/working/face_model.h5')\n",
    "model_new.load_weights('/kaggle/working/face_model_weights.h5')"
   ]
  },
  {
   "cell_type": "code",
   "execution_count": null,
   "metadata": {
    "collapsed": true
   },
   "outputs": [],
   "source": [
    "datagen_test = tf.keras.preprocessing.image.ImageDataGenerator(\n",
    "    featurewise_center=False, samplewise_center=False,\n",
    "    featurewise_std_normalization=False, samplewise_std_normalization=False,\n",
    "    zca_whitening=False, zca_epsilon=1e-06, rotation_range=0, width_shift_range=0.0,\n",
    "    height_shift_range=0.0, brightness_range=None, shear_range=0.0, zoom_range=0.0,\n",
    "    channel_shift_range=0.0, fill_mode='nearest', cval=0.0,\n",
    "    horizontal_flip=False, vertical_flip=False, rescale=1./255,\n",
    "    preprocessing_function=None, data_format=None, validation_split=0.0, dtype=None\n",
    ")\n",
    "datagen_test_flow = datagen_test.flow_from_dataframe(\n",
    "    dataframe_test, directory=None, x_col='name', y_col='label',\n",
    "    weight_col=None, target_size=IMG_SIZE, color_mode='rgb',\n",
    "    classes=None, class_mode='sparse', batch_size=32, shuffle=False,\n",
    "    seed=None, save_to_dir=None, save_prefix='',subset=None, interpolation='nearest',\n",
    "    validate_filenames=True\n",
    ")\n",
    "\n",
    "prediction=np.argmax(face_model.predict(datagen_test_flow),axis=1)"
   ]
  },
  {
   "cell_type": "code",
   "execution_count": null,
   "metadata": {
    "collapsed": true
   },
   "outputs": [],
   "source": [
    "face_model.evaluate(datagen_test_flow)"
   ]
  },
  {
   "cell_type": "code",
   "execution_count": null,
   "metadata": {
    "collapsed": true
   },
   "outputs": [],
   "source": [
    "y=np.array(dataframe_test['label'])\n",
    "true_label=[]\n",
    "for char in y:\n",
    "    true_label.append(datagen_test_flow.class_indices[char])\n",
    "true_label"
   ]
  },
  {
   "cell_type": "code",
   "execution_count": null,
   "metadata": {
    "collapsed": true
   },
   "outputs": [],
   "source": [
    "print('Confusion Matrix')\n",
    "print(confusion_matrix(true_label, prediction))\n",
    "print('Classification Report')\n",
    "print(classification_report(true_label, prediction))"
   ]
  },
  {
   "cell_type": "code",
   "execution_count": null,
   "metadata": {
    "collapsed": true
   },
   "outputs": [],
   "source": [
    "face_model.save('/kaggle/working/face_model.h5')\n",
    "face_model.save_weights('/kaggle/working/face_model_weights.h5')"
   ]
  },
  {
   "cell_type": "code",
   "execution_count": null,
   "metadata": {
    "collapsed": true
   },
   "outputs": [],
   "source": []
  }
 ],
 "metadata": {
  "kernelspec": {
   "display_name": "Python 3",
   "language": "python",
   "name": "python3"
  },
  "language_info": {
   "codemirror_mode": {
    "name": "ipython",
    "version": 3
   },
   "file_extension": ".py",
   "mimetype": "text/x-python",
   "name": "python",
   "nbconvert_exporter": "python",
   "pygments_lexer": "ipython3",
   "version": "3.6.1"
  }
 },
 "nbformat": 4,
 "nbformat_minor": 4
}
